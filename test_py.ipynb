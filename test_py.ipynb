{
 "cells": [
  {
   "cell_type": "code",
   "execution_count": 1,
   "id": "94033088-09d6-4a08-bb95-db9ef63e73fb",
   "metadata": {
    "tags": []
   },
   "outputs": [],
   "source": [
    "%run pygame_show.py"
   ]
  },
  {
   "cell_type": "code",
   "execution_count": null,
   "id": "7f9452e2-4c31-4ade-bcd7-e71f7f601922",
   "metadata": {},
   "outputs": [],
   "source": []
  }
 ],
 "metadata": {
  "kernelspec": {
   "display_name": "Python 3 (ipykernel)",
   "language": "python",
   "name": "python3"
  },
  "language_info": {
   "codemirror_mode": {
    "name": "ipython",
    "version": 3
   },
   "file_extension": ".py",
   "mimetype": "text/x-python",
   "name": "python",
   "nbconvert_exporter": "python",
   "pygments_lexer": "ipython3",
   "version": "3.11.2"
  }
 },
 "nbformat": 4,
 "nbformat_minor": 5
}
