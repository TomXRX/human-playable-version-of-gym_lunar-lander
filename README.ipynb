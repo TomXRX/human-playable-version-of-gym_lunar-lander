{
 "cells": [
  {
   "cell_type": "markdown",
   "id": "a7b77b1c-e13e-4d95-8ef8-d1c26987e3c0",
   "metadata": {},
   "source": []
  },
  {
   "cell_type": "markdown",
   "id": "d0f9494f-be24-4337-9563-362eca5f813a",
   "metadata": {},
   "source": [
    "https://www.gymlibrary.dev/environments/box2d/lunar_lander/"
   ]
  },
  {
   "cell_type": "markdown",
   "id": "7961c61d-05be-40f9-b275-69668f1fc656",
   "metadata": {},
   "source": []
  },
  {
   "cell_type": "markdown",
   "id": "779d4d0b-ce3f-4070-996b-a7af25ada28f",
   "metadata": {},
   "source": [
    "### TODO\n",
    "\n",
    "limited fuel (fuel weight simulation"
   ]
  },
  {
   "cell_type": "markdown",
   "id": "bcda19bf-d214-4569-8660-a9733922fb4d",
   "metadata": {},
   "source": []
  },
  {
   "cell_type": "markdown",
   "id": "c5125f24-62d8-47ad-b673-8bd80727cbea",
   "metadata": {},
   "source": []
  }
 ],
 "metadata": {
  "kernelspec": {
   "display_name": "Python 3 (ipykernel)",
   "language": "python",
   "name": "python3"
  },
  "language_info": {
   "codemirror_mode": {
    "name": "ipython",
    "version": 3
   },
   "file_extension": ".py",
   "mimetype": "text/x-python",
   "name": "python",
   "nbconvert_exporter": "python",
   "pygments_lexer": "ipython3",
   "version": "3.11.2"
  }
 },
 "nbformat": 4,
 "nbformat_minor": 5
}
