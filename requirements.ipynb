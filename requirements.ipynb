{
 "cells": [
  {
   "cell_type": "markdown",
   "id": "b0292436-6e69-4096-8009-a33e37edbf31",
   "metadata": {},
   "source": [
    "if on windows\n",
    "should install microsoft build tools\n",
    "(about 4G disk space?\n",
    "\n",
    "https://stackoverflow.com/questions/64261546/how-to-solve-error-microsoft-visual-c-14-0-or-greater-is-required-when-inst"
   ]
  },
  {
   "cell_type": "code",
   "execution_count": null,
   "id": "8d7f1581-863b-4594-a9a2-c724884ed43a",
   "metadata": {},
   "outputs": [],
   "source": []
  },
  {
   "cell_type": "code",
   "execution_count": null,
   "id": "35828f3e-ea85-4a48-8c25-2077bcd48045",
   "metadata": {},
   "outputs": [],
   "source": []
  },
  {
   "cell_type": "code",
   "execution_count": 1,
   "id": "e4d6df02-8db9-4883-9f88-fc6e98179614",
   "metadata": {
    "tags": []
   },
   "outputs": [
    {
     "name": "stdout",
     "output_type": "stream",
     "text": [
      "Requirement already satisfied: gymnasium[box2d] in c:\\users\\tom\\appdata\\local\\programs\\python\\python311\\lib\\site-packages (0.29.1)\n",
      "Requirement already satisfied: numpy>=1.21.0 in c:\\users\\tom\\appdata\\local\\programs\\python\\python311\\lib\\site-packages (from gymnasium[box2d]) (1.26.4)\n",
      "Requirement already satisfied: cloudpickle>=1.2.0 in c:\\users\\tom\\appdata\\local\\programs\\python\\python311\\lib\\site-packages (from gymnasium[box2d]) (3.0.0)\n",
      "Requirement already satisfied: typing-extensions>=4.3.0 in c:\\users\\tom\\appdata\\local\\programs\\python\\python311\\lib\\site-packages (from gymnasium[box2d]) (4.10.0)\n",
      "Requirement already satisfied: farama-notifications>=0.0.1 in c:\\users\\tom\\appdata\\local\\programs\\python\\python311\\lib\\site-packages (from gymnasium[box2d]) (0.0.4)\n",
      "Requirement already satisfied: box2d-py==2.3.5 in c:\\users\\tom\\appdata\\local\\programs\\python\\python311\\lib\\site-packages (from gymnasium[box2d]) (2.3.5)\n",
      "Requirement already satisfied: pygame>=2.1.3 in c:\\users\\tom\\appdata\\local\\programs\\python\\python311\\lib\\site-packages (from gymnasium[box2d]) (2.3.0)\n",
      "Requirement already satisfied: swig==4.* in c:\\users\\tom\\appdata\\local\\programs\\python\\python311\\lib\\site-packages (from gymnasium[box2d]) (4.2.1)\n",
      "Note: you may need to restart the kernel to use updated packages.\n"
     ]
    },
    {
     "name": "stderr",
     "output_type": "stream",
     "text": [
      "\n",
      "[notice] A new release of pip available: 22.3.1 -> 24.0\n",
      "[notice] To update, run: python.exe -m pip install --upgrade pip\n"
     ]
    }
   ],
   "source": [
    "pip install gymnasium[box2d]"
   ]
  },
  {
   "cell_type": "code",
   "execution_count": null,
   "id": "5fb90ee5-6c78-4585-a17f-12f729af3f32",
   "metadata": {},
   "outputs": [],
   "source": []
  }
 ],
 "metadata": {
  "kernelspec": {
   "display_name": "Python 3 (ipykernel)",
   "language": "python",
   "name": "python3"
  },
  "language_info": {
   "codemirror_mode": {
    "name": "ipython",
    "version": 3
   },
   "file_extension": ".py",
   "mimetype": "text/x-python",
   "name": "python",
   "nbconvert_exporter": "python",
   "pygments_lexer": "ipython3",
   "version": "3.11.2"
  }
 },
 "nbformat": 4,
 "nbformat_minor": 5
}
