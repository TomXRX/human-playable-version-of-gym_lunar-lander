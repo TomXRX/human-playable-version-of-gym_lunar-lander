{
 "cells": [
  {
   "cell_type": "raw",
   "id": "44bf3a30-a9ae-4e62-9c8f-1bf8e36ae115",
   "metadata": {
    "tags": []
   },
   "source": [
    "pip install pyinstaller"
   ]
  },
  {
   "cell_type": "markdown",
   "id": "1a0860a8-3860-4de9-bfa1-d899588cc9fa",
   "metadata": {},
   "source": [
    "https://stackoverflow.com/questions/43777106/program-made-with-pyinstaller-now-seen-as-a-trojan-horse-by-avg"
   ]
  },
  {
   "cell_type": "raw",
   "id": "956b9595-45a1-4e37-9ed5-533caa6caade",
   "metadata": {
    "tags": []
   },
   "source": [
    "!pyinstaller --onefile --noconsole pygame_show.py\n",
    "# virus problem"
   ]
  },
  {
   "cell_type": "code",
   "execution_count": 2,
   "id": "7aa45889-23cd-47dd-a356-9954d237da0f",
   "metadata": {
    "tags": []
   },
   "outputs": [
    {
     "name": "stdout",
     "output_type": "stream",
     "text": [
      "pygame 2.3.0 (SDL 2.24.2, Python 3.11.2)\n",
      "Hello from the pygame community. https://www.pygame.org/contribute.html\n"
     ]
    },
    {
     "name": "stderr",
     "output_type": "stream",
     "text": [
      "832 INFO: PyInstaller: 6.5.0, contrib hooks: 2024.3\n",
      "832 INFO: Python: 3.11.2\n",
      "844 INFO: Platform: Windows-10-10.0.19045-SP0\n",
      "845 INFO: wrote C:\\Users\\tom\\Documents\\non_docker\\gym_for_human_lunar_lander\\pygame_show.spec\n",
      "856 INFO: Extending PYTHONPATH with paths\n",
      "['C:\\\\Users\\\\tom\\\\Documents\\\\non_docker\\\\gym_for_human_lunar_lander']\n",
      "3133 INFO: checking Analysis\n",
      "3224 INFO: checking PYZ\n",
      "3310 INFO: checking PKG\n",
      "3326 INFO: Building because toc changed\n",
      "3326 INFO: Building PKG (CArchive) pygame_show.pkg\n",
      "3449 INFO: Building PKG (CArchive) pygame_show.pkg completed successfully.\n",
      "3451 INFO: Bootloader C:\\Users\\tom\\AppData\\Local\\Programs\\Python\\Python311\\Lib\\site-packages\\PyInstaller\\bootloader\\Windows-64bit-intel\\runw.exe\n",
      "3451 INFO: checking EXE\n",
      "3465 INFO: Rebuilding EXE-00.toc because pygame_show.exe missing\n",
      "3465 INFO: Building EXE from EXE-00.toc\n",
      "3466 INFO: Copying bootloader EXE to C:\\Users\\tom\\Documents\\non_docker\\gym_for_human_lunar_lander\\build\\pygame_show\\pygame_show.exe\n",
      "3632 INFO: Copying icon to EXE\n",
      "3726 INFO: Copying 0 resources to EXE\n",
      "3726 INFO: Embedding manifest in EXE\n",
      "3811 INFO: Appending PKG archive to EXE\n",
      "3825 INFO: Fixing EXE headers\n",
      "4415 INFO: Building EXE from EXE-00.toc completed successfully.\n",
      "4418 INFO: checking COLLECT\n",
      "4418 INFO: Building COLLECT because COLLECT-00.toc is non existent\n",
      "4418 INFO: Building COLLECT COLLECT-00.toc\n",
      "5342 INFO: Building COLLECT COLLECT-00.toc completed successfully.\n"
     ]
    }
   ],
   "source": [
    "!pyinstaller --noconsole pygame_show.py "
   ]
  },
  {
   "cell_type": "code",
   "execution_count": null,
   "id": "b6930612-c740-4090-9f51-b084cea02ddf",
   "metadata": {},
   "outputs": [],
   "source": []
  },
  {
   "cell_type": "code",
   "execution_count": null,
   "id": "70e80fc7-2fa0-444c-8aa7-ec17f1afbaf0",
   "metadata": {},
   "outputs": [],
   "source": []
  }
 ],
 "metadata": {
  "kernelspec": {
   "display_name": "Python 3 (ipykernel)",
   "language": "python",
   "name": "python3"
  },
  "language_info": {
   "codemirror_mode": {
    "name": "ipython",
    "version": 3
   },
   "file_extension": ".py",
   "mimetype": "text/x-python",
   "name": "python",
   "nbconvert_exporter": "python",
   "pygments_lexer": "ipython3",
   "version": "3.11.2"
  }
 },
 "nbformat": 4,
 "nbformat_minor": 5
}
