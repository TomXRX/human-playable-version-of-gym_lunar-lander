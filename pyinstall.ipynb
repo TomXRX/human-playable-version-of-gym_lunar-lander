{
 "cells": [
  {
   "cell_type": "code",
   "execution_count": 1,
   "id": "645d81c9-e462-417a-838c-00f100b8904a",
   "metadata": {
    "tags": []
   },
   "outputs": [
    {
     "name": "stdout",
     "output_type": "stream",
     "text": [
      "Collecting pyinstaller\n",
      "  Downloading pyinstaller-6.5.0-py3-none-win_amd64.whl (1.3 MB)\n",
      "     ---------------------------------------- 1.3/1.3 MB 16.4 MB/s eta 0:00:00\n",
      "Requirement already satisfied: setuptools>=42.0.0 in c:\\users\\tom\\appdata\\local\\programs\\python\\python311\\lib\\site-packages (from pyinstaller) (65.5.0)\n",
      "Collecting altgraph\n",
      "  Downloading altgraph-0.17.4-py2.py3-none-any.whl (21 kB)\n",
      "Collecting pyinstaller-hooks-contrib>=2024.3\n",
      "  Downloading pyinstaller_hooks_contrib-2024.3-py2.py3-none-any.whl (329 kB)\n",
      "     ------------------------------------- 329.0/329.0 kB 21.3 MB/s eta 0:00:00\n",
      "Requirement already satisfied: packaging>=22.0 in c:\\users\\tom\\appdata\\local\\programs\\python\\python311\\lib\\site-packages (from pyinstaller) (23.0)\n",
      "Collecting pefile>=2022.5.30\n",
      "  Downloading pefile-2023.2.7-py3-none-any.whl (71 kB)\n",
      "     ---------------------------------------- 71.8/71.8 kB ? eta 0:00:00\n",
      "Collecting pywin32-ctypes>=0.2.1\n",
      "  Downloading pywin32_ctypes-0.2.2-py3-none-any.whl (30 kB)\n",
      "Installing collected packages: altgraph, pywin32-ctypes, pyinstaller-hooks-contrib, pefile, pyinstaller\n",
      "Successfully installed altgraph-0.17.4 pefile-2023.2.7 pyinstaller-6.5.0 pyinstaller-hooks-contrib-2024.3 pywin32-ctypes-0.2.2\n",
      "Note: you may need to restart the kernel to use updated packages.\n"
     ]
    },
    {
     "name": "stderr",
     "output_type": "stream",
     "text": [
      "\n",
      "[notice] A new release of pip available: 22.3.1 -> 24.0\n",
      "[notice] To update, run: python.exe -m pip install --upgrade pip\n"
     ]
    }
   ],
   "source": [
    "pip install pyinstaller"
   ]
  },
  {
   "cell_type": "code",
   "execution_count": null,
   "id": "4302d443-73c7-4d26-b919-737be9db0342",
   "metadata": {},
   "outputs": [],
   "source": []
  },
  {
   "cell_type": "code",
   "execution_count": 4,
   "id": "21588e87-3fe0-46da-a38a-49baa160da09",
   "metadata": {
    "tags": []
   },
   "outputs": [
    {
     "name": "stdout",
     "output_type": "stream",
     "text": [
      "pygame 2.3.0 (SDL 2.24.2, Python 3.11.2)\n",
      "Hello from the pygame community. https://www.pygame.org/contribute.html\n"
     ]
    },
    {
     "name": "stderr",
     "output_type": "stream",
     "text": [
      "640 INFO: PyInstaller: 6.5.0, contrib hooks: 2024.3\n",
      "641 INFO: Python: 3.11.2\n",
      "652 INFO: Platform: Windows-10-10.0.19045-SP0\n",
      "653 INFO: wrote C:\\Users\\tom\\Documents\\non_docker\\gym_for_human_lunar_lander\\pygame_show.spec\n",
      "663 INFO: Extending PYTHONPATH with paths\n",
      "['C:\\\\Users\\\\tom\\\\Documents\\\\non_docker\\\\gym_for_human_lunar_lander']\n",
      "1591 INFO: checking Analysis\n",
      "1653 INFO: checking PYZ\n",
      "1716 INFO: checking PKG\n",
      "1735 INFO: Bootloader C:\\Users\\tom\\AppData\\Local\\Programs\\Python\\Python311\\Lib\\site-packages\\PyInstaller\\bootloader\\Windows-64bit-intel\\runw.exe\n",
      "1736 INFO: checking EXE\n",
      "1749 INFO: Building because console changed\n",
      "1749 INFO: Building EXE from EXE-00.toc\n",
      "1754 INFO: Copying bootloader EXE to C:\\Users\\tom\\Documents\\non_docker\\gym_for_human_lunar_lander\\dist\\pygame_show.exe\n",
      "1936 INFO: Copying icon to EXE\n",
      "1957 INFO: Copying 0 resources to EXE\n",
      "1957 INFO: Embedding manifest in EXE\n",
      "2050 INFO: Appending PKG archive to EXE\n",
      "2088 INFO: Fixing EXE headers\n",
      "3159 INFO: Building EXE from EXE-00.toc completed successfully.\n"
     ]
    }
   ],
   "source": [
    "!pyinstaller --onefile --noconsole pygame_show.py "
   ]
  },
  {
   "cell_type": "code",
   "execution_count": null,
   "id": "b6930612-c740-4090-9f51-b084cea02ddf",
   "metadata": {},
   "outputs": [],
   "source": []
  },
  {
   "cell_type": "code",
   "execution_count": null,
   "id": "70e80fc7-2fa0-444c-8aa7-ec17f1afbaf0",
   "metadata": {},
   "outputs": [],
   "source": []
  }
 ],
 "metadata": {
  "kernelspec": {
   "display_name": "Python 3 (ipykernel)",
   "language": "python",
   "name": "python3"
  },
  "language_info": {
   "codemirror_mode": {
    "name": "ipython",
    "version": 3
   },
   "file_extension": ".py",
   "mimetype": "text/x-python",
   "name": "python",
   "nbconvert_exporter": "python",
   "pygments_lexer": "ipython3",
   "version": "3.11.2"
  }
 },
 "nbformat": 4,
 "nbformat_minor": 5
}
