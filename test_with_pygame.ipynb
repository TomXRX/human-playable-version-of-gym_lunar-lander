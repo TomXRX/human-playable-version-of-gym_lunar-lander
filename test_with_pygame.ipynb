{
 "cells": [
  {
   "cell_type": "code",
   "execution_count": 1,
   "id": "fbe12f75-76c6-4ba2-aabb-b2437e58931c",
   "metadata": {
    "tags": []
   },
   "outputs": [],
   "source": [
    "import gymnasium as gym"
   ]
  },
  {
   "cell_type": "code",
   "execution_count": 2,
   "id": "e0bcf017-e3a0-492e-ba00-5b0f1177a11c",
   "metadata": {
    "tags": []
   },
   "outputs": [],
   "source": [
    "env = gym.make(\n",
    "    \"LunarLander-v2\",\n",
    "    continuous= True,\n",
    "    gravity= -10.0,\n",
    "    enable_wind = False,\n",
    "    # wind_power = 15.0,\n",
    "    # turbulence_power = 1.5,\n",
    "    render_mode=\"human\",\n",
    ")"
   ]
  },
  {
   "cell_type": "code",
   "execution_count": 3,
   "id": "11cca737-c6fb-48de-8ad1-1d7de839385a",
   "metadata": {
    "tags": []
   },
   "outputs": [],
   "source": [
    "from pygame.locals import *\n",
    "import pygame\n",
    "import numpy"
   ]
  },
  {
   "cell_type": "raw",
   "id": "4cfd8407-0873-456f-b7b2-f94d89174d12",
   "metadata": {
    "tags": []
   },
   "source": [
    "pygame.init()"
   ]
  },
  {
   "cell_type": "raw",
   "id": "eb9beaa0-a5e1-400c-b61a-0cca90199676",
   "metadata": {
    "tags": []
   },
   "source": [
    "pygame.key"
   ]
  },
  {
   "cell_type": "raw",
   "id": "cdab41ae-a01a-444d-b8de-089e3dbc294b",
   "metadata": {
    "tags": []
   },
   "source": [
    "screen = pygame.display"
   ]
  },
  {
   "cell_type": "code",
   "execution_count": 4,
   "id": "457af2c9-376e-4de6-9823-f9846170988e",
   "metadata": {
    "tags": []
   },
   "outputs": [],
   "source": [
    "pygame.display.set_caption(\"lunar\")"
   ]
  },
  {
   "cell_type": "raw",
   "id": "97c2bb19-ef9d-4048-b857-73c43a22a725",
   "metadata": {},
   "source": [
    "observation, info = env.reset()"
   ]
  },
  {
   "cell_type": "raw",
   "id": "c690a0c7-cb5c-45f9-a4a3-8967b57bdba6",
   "metadata": {
    "tags": []
   },
   "source": [
    "env.__dict__"
   ]
  },
  {
   "cell_type": "code",
   "execution_count": 5,
   "id": "d0ccbb0e-df9b-4d06-a968-4c96959712a4",
   "metadata": {
    "tags": []
   },
   "outputs": [],
   "source": [
    "main_env=env.env.env.env"
   ]
  },
  {
   "cell_type": "code",
   "execution_count": 6,
   "id": "f0245199-8192-43d5-a257-8d7f7cebfc68",
   "metadata": {
    "tags": []
   },
   "outputs": [
    {
     "data": {
      "text/plain": [
       "<gymnasium.envs.box2d.lunar_lander.LunarLander at 0x2076bd12bd0>"
      ]
     },
     "execution_count": 6,
     "metadata": {},
     "output_type": "execute_result"
    }
   ],
   "source": [
    "main_env"
   ]
  },
  {
   "cell_type": "code",
   "execution_count": 7,
   "id": "9ff6cdff-dc86-4ad1-a5ff-7a9e430d50d3",
   "metadata": {
    "tags": []
   },
   "outputs": [
    {
     "data": {
      "text/plain": [
       "(array([-0.00211096,  1.3993895 , -0.21383479, -0.5124739 ,  0.00245289,\n",
       "         0.04843673,  0.        ,  0.        ], dtype=float32),\n",
       " {})"
      ]
     },
     "execution_count": 7,
     "metadata": {},
     "output_type": "execute_result"
    }
   ],
   "source": [
    "main_env.reset()"
   ]
  },
  {
   "cell_type": "code",
   "execution_count": null,
   "id": "b3aa3749-f174-4c09-8f35-7abb90a80818",
   "metadata": {},
   "outputs": [],
   "source": []
  },
  {
   "cell_type": "code",
   "execution_count": 8,
   "id": "d4a33095-abe5-4fcd-af50-987612b98660",
   "metadata": {
    "tags": []
   },
   "outputs": [],
   "source": [
    "events=pygame.event.get()        "
   ]
  },
  {
   "cell_type": "code",
   "execution_count": null,
   "id": "3c8cd640-51cb-41b8-836a-b65e472b14ec",
   "metadata": {
    "tags": []
   },
   "outputs": [],
   "source": [
    "events"
   ]
  },
  {
   "cell_type": "code",
   "execution_count": null,
   "id": "64098660-a609-4c60-8bbe-6546c70913b7",
   "metadata": {},
   "outputs": [],
   "source": []
  },
  {
   "cell_type": "code",
   "execution_count": null,
   "id": "ae153123-0dc3-43e8-8d46-9a7f06047f39",
   "metadata": {},
   "outputs": [],
   "source": []
  },
  {
   "cell_type": "code",
   "execution_count": null,
   "id": "450a2d08-8823-449f-9cb7-d62d1bc0723f",
   "metadata": {
    "tags": []
   },
   "outputs": [],
   "source": [
    "while 1:\n",
    "    main_env.step((0,0))\n",
    "    main_env.render()"
   ]
  },
  {
   "cell_type": "code",
   "execution_count": null,
   "id": "1c82f66b-4941-4f63-84a2-2b9310263b0b",
   "metadata": {},
   "outputs": [],
   "source": []
  }
 ],
 "metadata": {
  "kernelspec": {
   "display_name": "Python 3 (ipykernel)",
   "language": "python",
   "name": "python3"
  },
  "language_info": {
   "codemirror_mode": {
    "name": "ipython",
    "version": 3
   },
   "file_extension": ".py",
   "mimetype": "text/x-python",
   "name": "python",
   "nbconvert_exporter": "python",
   "pygments_lexer": "ipython3",
   "version": "3.11.2"
  }
 },
 "nbformat": 4,
 "nbformat_minor": 5
}
